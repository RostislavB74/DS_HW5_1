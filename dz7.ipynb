{
  "nbformat": 4,
  "nbformat_minor": 0,
  "metadata": {
    "colab": {
      "provenance": [],
      "authorship_tag": "ABX9TyMetWsF2Zsv1EDWHmh9ut0T",
      "include_colab_link": true
    },
    "kernelspec": {
      "name": "python3",
      "display_name": "Python 3"
    },
    "language_info": {
      "name": "python"
    }
  },
  "cells": [
    {
      "cell_type": "markdown",
      "metadata": {
        "id": "view-in-github",
        "colab_type": "text"
      },
      "source": [
        "<a href=\"https://colab.research.google.com/github/RostislavB74/DS_HW5_1/blob/main/dz7.ipynb\" target=\"_parent\"><img src=\"https://colab.research.google.com/assets/colab-badge.svg\" alt=\"Open In Colab\"/></a>"
      ]
    },
    {
      "cell_type": "code",
      "source": [
        "!pip install scikit-surprise"
      ],
      "metadata": {
        "colab": {
          "base_uri": "https://localhost:8080/"
        },
        "id": "N00Zqj0nx09o",
        "outputId": "8320fdf2-0832-4406-efca-3a5a33cb01a5"
      },
      "execution_count": 2,
      "outputs": [
        {
          "output_type": "stream",
          "name": "stdout",
          "text": [
            "Collecting scikit-surprise\n",
            "  Downloading scikit-surprise-1.1.3.tar.gz (771 kB)\n",
            "\u001b[2K     \u001b[90m━━━━━━━━━━━━━━━━━━━━━━━━━━━━━━━━━━━━━━━━\u001b[0m \u001b[32m772.0/772.0 kB\u001b[0m \u001b[31m8.6 MB/s\u001b[0m eta \u001b[36m0:00:00\u001b[0m\n",
            "\u001b[?25h  Preparing metadata (setup.py) ... \u001b[?25l\u001b[?25hdone\n",
            "Requirement already satisfied: joblib>=1.0.0 in /usr/local/lib/python3.10/dist-packages (from scikit-surprise) (1.3.2)\n",
            "Requirement already satisfied: numpy>=1.17.3 in /usr/local/lib/python3.10/dist-packages (from scikit-surprise) (1.25.2)\n",
            "Requirement already satisfied: scipy>=1.3.2 in /usr/local/lib/python3.10/dist-packages (from scikit-surprise) (1.11.4)\n",
            "Building wheels for collected packages: scikit-surprise\n",
            "  Building wheel for scikit-surprise (setup.py) ... \u001b[?25l\u001b[?25hdone\n",
            "  Created wheel for scikit-surprise: filename=scikit_surprise-1.1.3-cp310-cp310-linux_x86_64.whl size=3163000 sha256=2b3463e7dc47cb1ea0e8f94d9cac5a83e55fc01fd84ba4028ac95b8a84b81479\n",
            "  Stored in directory: /root/.cache/pip/wheels/a5/ca/a8/4e28def53797fdc4363ca4af740db15a9c2f1595ebc51fb445\n",
            "Successfully built scikit-surprise\n",
            "Installing collected packages: scikit-surprise\n",
            "Successfully installed scikit-surprise-1.1.3\n"
          ]
        }
      ]
    },
    {
      "cell_type": "code",
      "source": [
        "import pandas as pd\n",
        "from surprise import Dataset, Reader\n",
        "from surprise.model_selection import cross_validate\n",
        "from surprise.prediction_algorithms import SVD, SVDpp, NMF\n",
        "from surprise import SVD\n",
        "from surprise import Dataset"
      ],
      "metadata": {
        "id": "0749DUPIGNRS"
      },
      "execution_count": null,
      "outputs": []
    },
    {
      "cell_type": "code",
      "execution_count": 4,
      "metadata": {
        "colab": {
          "base_uri": "https://localhost:8080/"
        },
        "id": "B1jRChtrxQAD",
        "outputId": "1f4367e0-a443-4e7c-b245-babeef9fdf30"
      },
      "outputs": [
        {
          "output_type": "stream",
          "name": "stdout",
          "text": [
            "Trying to download dataset from https://files.grouplens.org/datasets/movielens/ml-100k.zip...\n",
            "Done! Dataset ml-100k has been saved to /root/.surprise_data/ml-100k\n"
          ]
        }
      ],
      "source": [
        "\n",
        "from surprise.model_selection import cross_validate\n",
        "\n",
        "data = Dataset.load_builtin('ml-100k', prompt=False)\n"
      ]
    },
    {
      "cell_type": "markdown",
      "source": [
        "Опис архіву  \n",
        "===============================================\n",
        "\n"
      ],
      "metadata": {
        "id": "4ON4EzJoJ02e"
      }
    },
    {
      "cell_type": "code",
      "source": [
        "# MovieLens набори даних були зібрані дослідницьким проектом GroupLens\n",
        "# в Університеті Міннесоти.\n",
        "\n",
        "# Цей набір даних складається з:\n",
        "# \t* 100 000 оцінок (1-5) від 943 користувачів для 1682 фільмів.\n",
        "# \t* Кожен користувач оцінив щонайменше 20 фільмів.\n",
        "#         * Проста демографічна інформація для користувачів (вік, стать, професія, поштовий індекс)\n",
        "\n",
        "# Дані збиралися через веб-сайт MovieLens\n",
        "# (movielens.umn.edu) протягом семимісячного періоду з 19 вересня\n",
        "# 1997 року по 22 квітня 1998 року. дані очищено - користувачів\n",
        "# , які мали менше 20 оцінок або не мали повної демографічної\n",
        "# інформації, було видалено з цього набору даних. Детальний опис\n",
        "# файлу даних можна знайти в кінці цього файлу.\n",
        "\n",
        "# Ні Університет Міннесоти, ні будь-хто із\n",
        "# залучених дослідників не може гарантувати правильність даних, їх придатність\n",
        "# для будь-якої конкретної мети або достовірність результатів, заснованих на\n",
        "# використанні набору даних. Набір даних можна використовувати для будь-яких дослідницьких\n",
        "# цілей за таких умов:\n",
        "\n",
        "#      * Користувач не має права заявляти чи натякати на будь-яке схвалення Університету\n",
        "#        Міннесоти чи дослідницької групи GroupLens.\n",
        "\n",
        "#      * Користувач повинен підтвердити використання набору даних у\n",
        "#        публікаціях, отриманих у результаті використання набору даних\n",
        "#        (див. інформацію про цитування нижче).\n",
        "\n",
        "#      * Користувач не може перерозповсюджувати дані без окремого\n",
        "#        дозволу.\n",
        "\n",
        "#      * Користувачеві забороняється використовувати цю інформацію в будь-яких комерційних\n",
        "#        цілях або для отримання прибутку без попереднього отримання дозволу\n",
        "#        від викладача дослідницького проекту GroupLens в Університеті\n",
        "#        Міннесоти.\n",
        "\n",
        "# Якщо у вас є додаткові запитання чи коментарі, зв’яжіться з GroupLens\n",
        "# <grouplens-info@cs.umn.edu>.\n",
        "\n",
        "# CITATION\n",
        "# ===============================================\n",
        "\n",
        "# Для підтвердження використання набору даних у публікаціях, будь ласка, процитуйте таку\n",
        "# статтю:\n",
        "\n",
        "# Ф. Максвелл Харпер і Джозеф А. Констан. 2015. Набори даних MovieLens:\n",
        "# історія та контекст. Транзакції ACM щодо інтерактивних інтелектуальних\n",
        "# систем (TiiS) 5, 4, стаття 19 (грудень 2015), 19 сторінок.\n",
        "# DOI=http://dx.doi.org/10.1145/2827872\n",
        "\n",
        "# ПОДЯКА\n",
        "# =================================== ============\n",
        "\n",
        "# Дякую Елу Борчерсу за очищення цих даних і написання\n",
        "# супровідних сценаріїв.\n",
        "\n",
        "# ПУБЛІКОВАНА РОБОТА, ЯКА ВИКОРИСТОВУВАЛА ЦЕЙ НАБІР ДАНИХ\n",
        "# ============================================= ===\n",
        "\n",
        "# Херлокер, Дж., Констан, Дж., Борчерс, А., Рідл, Дж.. Алгоритмічна\n",
        "# структура для виконання спільної фільтрації. Матеріали\n",
        "# конференції 1999 року з досліджень і розробок у\n",
        "# сфері пошуку інформації. Серпень 1999 р.\n",
        "\n",
        "# ДОДАТКА ІНФОРМАЦІЯ ПРО ПРОЕКТ ДОСЛІДЖЕННЯ GROUPLENS\n",
        "# ========================================== =======\n",
        "\n",
        "# Дослідницький проект GroupLens є дослідницькою групою Департаменту\n",
        "# комп’ютерних наук та інженерії Університету Міннесоти.\n",
        "# Члени дослідницького проекту GroupLens беруть участь у багатьох\n",
        "# дослідницьких проектах, пов’язаних із фільтрацією інформації,\n",
        "# спільною фільтрацією та системами рекомендацій. Керують проектом\n",
        "# професори Джон Рідл і Джозеф Констан. Проект почав\n",
        "# досліджувати автоматизовану спільну фільтрацію в 1992 році, але найбільш\n",
        "# відомий своїм всесвітнім випробуванням автоматизованої спільної\n",
        "# системи фільтрації для новин Usenet у 1996 році. Технологія, розроблена під час\n",
        "# випробування Usenet, лягла в основу формування мережевого сприйняття,\n",
        "# Inc., яка була заснована членами GroupLens Research. З тих пір\n",
        "# проект розширив свою сферу дослідження загальних\n",
        "# рішень фільтрації інформації, інтегруючи методи на основі контенту, а також\n",
        "# вдосконалюючи поточну технологію спільної фільтрації.\n",
        "\n",
        "# Додаткову інформацію про проект GroupLens Research, включно з\n",
        "# дослідницькими публікаціями, можна знайти на веб-сайті:\n",
        "\n",
        "#         http://www.grouplens.org/\n",
        "\n",
        "# GroupLens Research наразі працює з рекомендацією фільмів на основі\n",
        "# спільної фільтрації:\n",
        "\n",
        "#         http://www.movielens .org/\n",
        "\n",
        "# ДЕТАЛЬНИЙ ОПИС ФАЙЛОВ ДАНИХ\n",
        "# ============================================ ====\n",
        "\n",
        "# Ось короткий опис даних.\n",
        "\n",
        "# ml-data.tar.gz -- Стиснутий файл tar. Щоб відновити файли даних u, виконайте наступне:\n",
        "#                 gunzip ml-data.tar.gz\n",
        "#                 tar xvf ml-data.tar\n",
        "#                 mku.sh\n",
        "\n",
        "# u.data -- Повний набір даних u, 100 000 оцінок від 943 користувачів для 1682 елементів.\n",
        "#               Кожен користувач оцінив не менше 20 фільмів. Користувачі та елементи\n",
        "#               нумеруються послідовно від 1. Дані впорядковуються випадковим чином\n",
        "#               . Це розділений вкладками список\n",
        "# \t         ідентифікаторів користувачів | ідентифікатор товару | рейтинг | позначка часу.\n",
        "#               Часові позначки є секундами Unix з 1/1/1970 UTC\n",
        "\n",
        "# u.info -- кількість користувачів, елементів і оцінок у наборі даних u.\n",
        "\n",
        "# u.item -- Інформація про елементи (фільми); це розділений вкладками\n",
        "#               список\n",
        "#               ідентифікатор фільму | назва фільму | Дата випуску | дата випуску відео |\n",
        "#               IMDb URL | невідомий | Дія | Пригода | Анімація |\n",
        "#               Дитячий | Комедія | Злочин | Документальний | Драма | Фантазія |\n",
        "#               Фільм Нуар | Жах | Музичний | Таємниця | Романтика | Наукова фантастика |\n",
        "#               Трилер | Війна | Західний |\n",
        "#               Останні 19 полів — це жанри, 1 означає, що фільм\n",
        "#               належить до цього жанру, 0 — ні; фільми можуть бути в\n",
        "#               кількох жанрах одночасно.\n",
        "#               Ідентифікатори фільмів використовуються в наборі даних u.data.\n",
        "\n",
        "# u.genre -- список жанрів.\n",
        "\n",
        "# u.user -- Демографічна інформація про користувачів; це\n",
        "#               розділений вкладками список\n",
        "#               ідентифікаторів користувачів | вік | стать | професія | поштовий індекс\n",
        "#               Ідентифікатори користувачів використовуються в наборі даних u.data.\n",
        "\n",
        "# u.occupation -- список професій.\n",
        "\n",
        "# u1.base – набори даних від u1.base і u1.test до u5.base і u5.test\n",
        "# u1.test є 80%/20% поділом даних u на навчальні та тестові дані.\n",
        "# u2.base Кожен з u1, ..., u5 має непересічні тестові набори; це якщо для\n",
        "# u2.test 5-кратна перехресна перевірка (де ви повторюєте свій експеримент\n",
        "# u3.base з кожним навчальним і тестовим набором і усереднюєте результати).\n",
        "# u3.test Ці набори даних можуть бути згенеровані з u.data mku.sh.\n",
        "# u4.base\n",
        "# u4.test\n",
        "# u5.base\n",
        "# u5.test\n",
        "\n",
        "# ua.base -- набори даних ua.base, ua.test, ub.base і ub.test\n",
        "# ua.test розділяють дані u на навчальний набір і тестовий встановити за допомогою\n",
        "# ub.base рівно 10 оцінок на користувача в тестовому наборі. Множини\n",
        "# ub.test ua.test і ub.test є непересічними. Ці набори даних можуть\n",
        "#               бути згенеровані з u.data mku.sh.\n",
        "\n",
        "# allbut.pl -- Сценарій, який генерує навчальні та тестові набори, де\n",
        "#               всі рейтинги користувачів, окрім n, містяться в навчальних даних.\n",
        "\n",
        "# mku.sh -- сценарій оболонки для генерації всіх наборів даних u з u.data."
      ],
      "metadata": {
        "id": "ZRAYtZjaKfCn"
      },
      "execution_count": null,
      "outputs": []
    },
    {
      "cell_type": "markdown",
      "source": [
        "# Інформація про датасет"
      ],
      "metadata": {
        "id": "bZsZWjOAKCVq"
      }
    },
    {
      "cell_type": "markdown",
      "source": [
        "# Інформація знаходиться в кулькох файлах"
      ],
      "metadata": {
        "id": "LnmAjuM-Klpk"
      }
    },
    {
      "cell_type": "code",
      "source": [
        "type(data)"
      ],
      "metadata": {
        "id": "TmjhR0949AH8"
      },
      "execution_count": null,
      "outputs": []
    },
    {
      "cell_type": "code",
      "source": [
        "ratings_file = '/root/.surprise_data/ml-100k/ml-100k/u.data'\n",
        "\n",
        "ratings_data = pd.read_csv(ratings_file, sep='\\t', names=['userId', 'movieId', 'rating', 'timestamp'])\n",
        "\n",
        "print(\"Рейтинги фільмів:\")\n",
        "print(ratings_data.head())"
      ],
      "metadata": {
        "id": "ab2VuxRjIz97",
        "outputId": "d527b6cd-2031-424e-9970-cd4f7603328b",
        "colab": {
          "base_uri": "https://localhost:8080/"
        }
      },
      "execution_count": 6,
      "outputs": [
        {
          "output_type": "stream",
          "name": "stdout",
          "text": [
            "Рейтинги фільмів:\n",
            "   userId  movieId  rating  timestamp\n",
            "0     196      242       3  881250949\n",
            "1     186      302       3  891717742\n",
            "2      22      377       1  878887116\n",
            "3     244       51       2  880606923\n",
            "4     166      346       1  886397596\n"
          ]
        }
      ]
    },
    {
      "cell_type": "markdown",
      "source": [
        "u.info -- кількість користувачів, елементів і оцінок у наборі даних u."
      ],
      "metadata": {
        "id": "65gP4iXaJcPx"
      }
    },
    {
      "cell_type": "code",
      "source": [
        "info_file = '/root/.surprise_data/ml-100k/ml-100k/u.info'\n",
        "\n",
        "info_data = pd.read_csv(info_file, sep='\\t', names=['userId'])\n",
        "\n",
        "print(\"кількість користувачів, елементів і оцінок у наборі даних u:\")\n",
        "print(info_data.head())\n",
        "\n"
      ],
      "metadata": {
        "id": "MrfUZ89BJEs3",
        "outputId": "46f5812f-6c40-43cf-e67a-4953b37bb9e6",
        "colab": {
          "base_uri": "https://localhost:8080/"
        }
      },
      "execution_count": 7,
      "outputs": [
        {
          "output_type": "stream",
          "name": "stdout",
          "text": [
            "кількість користувачів, елементів і оцінок у наборі даних u:\n",
            "           userId\n",
            "0       943 users\n",
            "1      1682 items\n",
            "2  100000 ratings\n"
          ]
        }
      ]
    },
    {
      "cell_type": "code",
      "source": [
        "file_path = '/root/.surprise_data/ml-100k/ml-100k/u.item'\n",
        "\n",
        "# Назви стовпців у файлі\n",
        "columns = [\n",
        "    'movieId', 'title', 'release_date', 'video_release_date',\n",
        "    'IMDb_URL', 'unknown', 'Action', 'Adventure', 'Animation',\n",
        "    'Children', 'Comedy', 'Crime', 'Documentary', 'Drama', 'Fantasy',\n",
        "    'Film-Noir', 'Horror', 'Musical', 'Mystery', 'Romance',\n",
        "    'Sci-Fi', 'Thriller', 'War', 'Western'\n",
        "]\n",
        "\n",
        "movies_df = pd.read_csv(file_path, sep='|', encoding='latin-1', header=None, names=columns)\n",
        "\n",
        "print(movies_df.head())\n"
      ],
      "metadata": {
        "id": "tGs8ItOQJmoo",
        "outputId": "3a731964-6bd0-43c1-9738-2534ea9f3ef7",
        "colab": {
          "base_uri": "https://localhost:8080/"
        }
      },
      "execution_count": 9,
      "outputs": [
        {
          "output_type": "stream",
          "name": "stdout",
          "text": [
            "   movieId              title release_date  video_release_date  \\\n",
            "0        1   Toy Story (1995)  01-Jan-1995                 NaN   \n",
            "1        2   GoldenEye (1995)  01-Jan-1995                 NaN   \n",
            "2        3  Four Rooms (1995)  01-Jan-1995                 NaN   \n",
            "3        4  Get Shorty (1995)  01-Jan-1995                 NaN   \n",
            "4        5     Copycat (1995)  01-Jan-1995                 NaN   \n",
            "\n",
            "                                            IMDb_URL  unknown  Action  \\\n",
            "0  http://us.imdb.com/M/title-exact?Toy%20Story%2...        0       0   \n",
            "1  http://us.imdb.com/M/title-exact?GoldenEye%20(...        0       1   \n",
            "2  http://us.imdb.com/M/title-exact?Four%20Rooms%...        0       0   \n",
            "3  http://us.imdb.com/M/title-exact?Get%20Shorty%...        0       1   \n",
            "4  http://us.imdb.com/M/title-exact?Copycat%20(1995)        0       0   \n",
            "\n",
            "   Adventure  Animation  Children  ...  Fantasy  Film-Noir  Horror  Musical  \\\n",
            "0          0          1         1  ...        0          0       0        0   \n",
            "1          1          0         0  ...        0          0       0        0   \n",
            "2          0          0         0  ...        0          0       0        0   \n",
            "3          0          0         0  ...        0          0       0        0   \n",
            "4          0          0         0  ...        0          0       0        0   \n",
            "\n",
            "   Mystery  Romance  Sci-Fi  Thriller  War  Western  \n",
            "0        0        0       0         0    0        0  \n",
            "1        0        0       0         1    0        0  \n",
            "2        0        0       0         1    0        0  \n",
            "3        0        0       0         0    0        0  \n",
            "4        0        0       0         1    0        0  \n",
            "\n",
            "[5 rows x 24 columns]\n"
          ]
        }
      ]
    },
    {
      "cell_type": "code",
      "source": [
        "file_path = '/root/.surprise_data/ml-100k/ml-100k/u.user'\n",
        "\n",
        "# Назви стовпців у файлі\n",
        "columns = ['userId', 'age', 'gender', 'occupation', 'zip_code']\n",
        "\n",
        "users_df = pd.read_csv(file_path, sep='|', header=None, names=columns)\n",
        "\n",
        "print(users_df.head())\n"
      ],
      "metadata": {
        "id": "Ftmk6_VmDpZH",
        "outputId": "7ae48e72-548d-4a99-c2d3-f5f144c7480b",
        "colab": {
          "base_uri": "https://localhost:8080/"
        }
      },
      "execution_count": 10,
      "outputs": [
        {
          "output_type": "stream",
          "name": "stdout",
          "text": [
            "   userId  age gender  occupation zip_code\n",
            "0       1   24      M  technician    85711\n",
            "1       2   53      F       other    94043\n",
            "2       3   23      M      writer    32067\n",
            "3       4   24      M  technician    43537\n",
            "4       5   33      F       other    15213\n"
          ]
        }
      ]
    },
    {
      "cell_type": "code",
      "source": [
        "genre_file = '/root/.surprise_data/ml-100k/ml-100k/u.genre'\n",
        "genre_data = pd.read_csv(genre_file, sep='\\t', names=['genreId'])\n",
        "\n",
        "print(\"Жанри фільмів\")\n",
        "print(genre_data.head())\n",
        "\n"
      ],
      "metadata": {
        "id": "KV4fL3S6MjzV",
        "outputId": "870bd2bf-d796-4891-a9cc-4b0dac17ac69",
        "colab": {
          "base_uri": "https://localhost:8080/"
        }
      },
      "execution_count": 16,
      "outputs": [
        {
          "output_type": "stream",
          "name": "stdout",
          "text": [
            "Жанри фільмів\n",
            "        genreId\n",
            "0     unknown|0\n",
            "1      Action|1\n",
            "2   Adventure|2\n",
            "3   Animation|3\n",
            "4  Children's|4\n"
          ]
        }
      ]
    },
    {
      "cell_type": "code",
      "source": [
        "# Шлях до файлу даних про професії\n",
        "file_path = '/root/.surprise_data/ml-100k/ml-100k/u.occupation'\n",
        "\n",
        "# Зчитування файлу даних про професії\n",
        "with open(file_path, 'r') as file:\n",
        "    occupations = file.readlines()\n",
        "\n",
        "# Перетворення списку рядків у список професій\n",
        "occupations = [occupation.strip() for occupation in occupations]\n",
        "\n",
        "# Виведення списку професій\n",
        "print(occupations)\n",
        "\n"
      ],
      "metadata": {
        "id": "hWQ6b2OxEE36",
        "outputId": "2ce36376-174f-48b9-a44d-6a2b0c10c805",
        "colab": {
          "base_uri": "https://localhost:8080/"
        }
      },
      "execution_count": 12,
      "outputs": [
        {
          "output_type": "stream",
          "name": "stdout",
          "text": [
            "['administrator', 'artist', 'doctor', 'educator', 'engineer', 'entertainment', 'executive', 'healthcare', 'homemaker', 'lawyer', 'librarian', 'marketing', 'none', 'other', 'programmer', 'retired', 'salesman', 'scientist', 'student', 'technician', 'writer']\n"
          ]
        }
      ]
    },
    {
      "cell_type": "markdown",
      "source": [
        "# Новый раздел"
      ],
      "metadata": {
        "id": "b2cF5YgLGpv7"
      }
    },
    {
      "cell_type": "code",
      "source": [
        "\n",
        "num_ratings = len(data.raw_ratings)\n",
        "print(\"Кількість рейтингів:\", num_ratings)\n"
      ],
      "metadata": {
        "id": "obGfuPZu-CTf",
        "outputId": "cdd6766f-2cd0-4a33-f045-dd1842a94ffc",
        "colab": {
          "base_uri": "https://localhost:8080/"
        }
      },
      "execution_count": 17,
      "outputs": [
        {
          "output_type": "stream",
          "name": "stdout",
          "text": [
            "Кількість рейтингів: 100000\n"
          ]
        }
      ]
    },
    {
      "cell_type": "code",
      "source": [
        "from datetime import date\n",
        "\n",
        "dater = None\n",
        "\n",
        "# Access dataset attributes\n",
        "raw_ratings = data.raw_ratings\n",
        "print(\"Number of ratings:\", len(raw_ratings))\n",
        "\n",
        "# Print a sample of raw ratings\n",
        "print(\"\\nTop 5 samples of raw ratings:\")\n",
        "for rating in raw_ratings[:5]:\n",
        "  uid, iid, ur, timestamp = rating\n",
        "  if timestamp:\n",
        "    dater = date.fromtimestamp(int(timestamp))\n",
        "  print(f\"UserID: {uid:5}, ItemID: {iid:5}, UserRateForItem: {ur:5}, date: {dater}\")\n",
        "\n",
        "search_uid = uid\n",
        "count_uid = 5\n",
        "print(f\"\\nTop {count_uid} ratings of user: {search_uid}\")\n",
        "\n",
        "for rating in raw_ratings:\n",
        "  uid, iid, ur, timestamp = rating\n",
        "  if uid == search_uid:\n",
        "    if timestamp:\n",
        "      dater = date.fromtimestamp(int(timestamp))\n",
        "    count_uid -= 1;\n",
        "    print(f\"UserID: {uid:5}, ItemID: {iid:5}, UserRateForItem: {ur:5}, date: {dater}\")\n",
        "    if count_uid <= 0:\n",
        "      break\n",
        "\n",
        "search_iid = iid\n",
        "count_iid = 5\n",
        "print(f\"\\nTop {count_iid} ratings of item: {search_iid}\")\n",
        "\n",
        "for rating in raw_ratings:\n",
        "  uid, iid, ur, timestamp = rating\n",
        "  if iid == search_iid:\n",
        "    if timestamp:\n",
        "      dater = date.fromtimestamp(int(timestamp))\n",
        "    count_iid -= 1;\n",
        "    print(f\"UserID: {uid:5}, ItemID: {iid:5}, UserRateForItem: {ur:5}, date: {dater}\")\n",
        "    if count_iid <= 0:\n",
        "      break"
      ],
      "metadata": {
        "id": "Qw2xBAM_9Fyr",
        "outputId": "e6d214cb-c6e4-4519-cacc-ccd7eecbd6d6",
        "colab": {
          "base_uri": "https://localhost:8080/"
        }
      },
      "execution_count": 18,
      "outputs": [
        {
          "output_type": "stream",
          "name": "stdout",
          "text": [
            "Number of ratings: 100000\n",
            "\n",
            "Top 5 samples of raw ratings:\n",
            "UserID: 196  , ItemID: 242  , UserRateForItem:   3.0, date: 1997-12-04\n",
            "UserID: 186  , ItemID: 302  , UserRateForItem:   3.0, date: 1998-04-04\n",
            "UserID: 22   , ItemID: 377  , UserRateForItem:   1.0, date: 1997-11-07\n",
            "UserID: 244  , ItemID: 51   , UserRateForItem:   2.0, date: 1997-11-27\n",
            "UserID: 166  , ItemID: 346  , UserRateForItem:   1.0, date: 1998-02-02\n",
            "\n",
            "Top 5 ratings of user: 166\n",
            "UserID: 166  , ItemID: 346  , UserRateForItem:   1.0, date: 1998-02-02\n",
            "UserID: 166  , ItemID: 328  , UserRateForItem:   5.0, date: 1998-02-02\n",
            "UserID: 166  , ItemID: 322  , UserRateForItem:   5.0, date: 1998-02-02\n",
            "UserID: 166  , ItemID: 288  , UserRateForItem:   3.0, date: 1998-02-02\n",
            "UserID: 166  , ItemID: 258  , UserRateForItem:   4.0, date: 1998-02-02\n",
            "\n",
            "Top 5 ratings of item: 258\n",
            "UserID: 26   , ItemID: 258  , UserRateForItem:   3.0, date: 1998-03-31\n",
            "UserID: 66   , ItemID: 258  , UserRateForItem:   4.0, date: 1997-12-31\n",
            "UserID: 207  , ItemID: 258  , UserRateForItem:   4.0, date: 1997-10-26\n",
            "UserID: 90   , ItemID: 258  , UserRateForItem:   3.0, date: 1998-03-31\n",
            "UserID: 6    , ItemID: 258  , UserRateForItem:   2.0, date: 1997-12-28\n"
          ]
        }
      ]
    },
    {
      "cell_type": "code",
      "source": [
        "# Ініціалізуємо читача даних\n",
        "reader = Reader()\n",
        "\n",
        "# Побудуємо датасет з оцінками\n",
        "dataset = data.build_full_trainset()\n",
        "\n",
        "# Створимо список алгоритмів\n",
        "algorithms = [SVD(), SVDpp(), NMF()]\n",
        "\n",
        "# Пройдемось по кожному алгоритму та оцінимо їх за допомогою крос-валідації\n",
        "for algorithm in algorithms:\n",
        "    print(f\"Evaluating {algorithm.__class__.__name__}...\")\n",
        "    results = cross_validate(algorithm, data, measures=['RMSE'], cv=5, verbose=True)\n",
        "    print(f\"Mean RMSE for {algorithm.__class__.__name__}: {results['test_rmse'].mean()}\")"
      ],
      "metadata": {
        "id": "fpSVJ1vo8vuE",
        "outputId": "cbc5cfe5-0e9f-47c0-f6de-d337d73957bd",
        "colab": {
          "base_uri": "https://localhost:8080/"
        }
      },
      "execution_count": 19,
      "outputs": [
        {
          "output_type": "stream",
          "name": "stdout",
          "text": [
            "Evaluating SVD...\n",
            "Evaluating RMSE of algorithm SVD on 5 split(s).\n",
            "\n",
            "                  Fold 1  Fold 2  Fold 3  Fold 4  Fold 5  Mean    Std     \n",
            "RMSE (testset)    0.9342  0.9372  0.9381  0.9321  0.9361  0.9355  0.0022  \n",
            "Fit time          1.33    1.39    2.27    2.03    1.38    1.68    0.39    \n",
            "Test time         0.14    0.12    0.40    0.12    0.12    0.18    0.11    \n",
            "Mean RMSE for SVD: 0.9355409463093393\n",
            "Evaluating SVDpp...\n",
            "Evaluating RMSE of algorithm SVDpp on 5 split(s).\n",
            "\n",
            "                  Fold 1  Fold 2  Fold 3  Fold 4  Fold 5  Mean    Std     \n",
            "RMSE (testset)    0.9200  0.9155  0.9200  0.9259  0.9158  0.9194  0.0038  \n",
            "Fit time          26.45   27.69   26.58   26.57   27.28   26.91   0.49    \n",
            "Test time         4.50    4.24    5.13    4.31    5.19    4.67    0.41    \n",
            "Mean RMSE for SVDpp: 0.9194324477424576\n",
            "Evaluating NMF...\n",
            "Evaluating RMSE of algorithm NMF on 5 split(s).\n",
            "\n",
            "                  Fold 1  Fold 2  Fold 3  Fold 4  Fold 5  Mean    Std     \n",
            "RMSE (testset)    0.9620  0.9606  0.9628  0.9644  0.9666  0.9633  0.0021  \n",
            "Fit time          2.20    2.18    2.23    2.73    2.19    2.31    0.21    \n",
            "Test time         0.10    0.26    0.17    0.10    0.11    0.15    0.06    \n",
            "Mean RMSE for NMF: 0.9633018817528972\n"
          ]
        }
      ]
    },
    {
      "cell_type": "code",
      "source": [
        "from surprise import Dataset, Reader\n",
        "from surprise.model_selection import cross_validate\n",
        "from surprise.prediction_algorithms import SVD, SVDpp, NMF, SlopeOne, KNNBasic, KNNWithMeans, KNNWithZScore, KNNBaseline, CoClustering, BaselineOnly, NormalPredictor\n",
        "\n",
        "# Побудуємо датасет з оцінками\n",
        "dataset = data.build_full_trainset()\n",
        "\n",
        "# Створюємо список алгоритмів\n",
        "algorithms = [\n",
        "    SVD(),\n",
        "    SVDpp(cache_ratings=False),\n",
        "    SVDpp(cache_ratings=True),\n",
        "    NMF(),\n",
        "    SlopeOne(),\n",
        "    KNNBasic(),\n",
        "    KNNWithMeans(),\n",
        "    KNNWithZScore(),\n",
        "    KNNBaseline(),\n",
        "    CoClustering(),\n",
        "    BaselineOnly(),\n",
        "    NormalPredictor()\n",
        "]\n",
        "\n",
        "# Створюємо словник для збереження результатів\n",
        "results = {}\n",
        "\n",
        "# Проходимо по кожному алгоритму та вимірюємо його ефективність\n",
        "for algo in algorithms:\n",
        "    print(f\"Evaluating {algo.__class__.__name__}...\")\n",
        "    cv_results = cross_validate(algo, data, measures=['RMSE', 'MAE'], cv=5, verbose=True)\n",
        "    mean_rmse = sum(cv_results['test_rmse']) / len(cv_results['test_rmse'])\n",
        "    mean_mae = sum(cv_results['test_mae']) / len(cv_results['test_mae'])\n",
        "    mean_time = sum(cv_results['fit_time']) / len(cv_results['fit_time'])\n",
        "    results[algo.__class__.__name__] = {'RMSE': mean_rmse, 'MAE': mean_mae, 'Time': mean_time}\n",
        "\n",
        "# Виведіть результати\n",
        "for algo, metrics in results.items():\n",
        "    print(f\"{algo}: RMSE={metrics['RMSE']}, MAE={metrics['MAE']}, Time={metrics['Time']}\")\n"
      ],
      "metadata": {
        "colab": {
          "base_uri": "https://localhost:8080/"
        },
        "id": "GIMMSZj31qOu",
        "outputId": "f556f93c-0dac-4f98-b451-bafdb8c4f141"
      },
      "execution_count": null,
      "outputs": [
        {
          "output_type": "stream",
          "name": "stdout",
          "text": [
            "Evaluating SVD...\n",
            "Evaluating RMSE, MAE of algorithm SVD on 5 split(s).\n",
            "\n",
            "                  Fold 1  Fold 2  Fold 3  Fold 4  Fold 5  Mean    Std     \n",
            "RMSE (testset)    0.9335  0.9296  0.9472  0.9322  0.9363  0.9358  0.0061  \n",
            "MAE (testset)     0.7362  0.7330  0.7473  0.7343  0.7379  0.7377  0.0051  \n",
            "Fit time          1.37    1.38    1.35    1.36    1.84    1.46    0.19    \n",
            "Test time         0.34    0.17    0.37    0.11    0.20    0.24    0.10    \n",
            "Evaluating SVDpp...\n",
            "Evaluating RMSE, MAE of algorithm SVDpp on 5 split(s).\n",
            "\n",
            "                  Fold 1  Fold 2  Fold 3  Fold 4  Fold 5  Mean    Std     \n",
            "RMSE (testset)    0.9173  0.9119  0.9281  0.9210  0.9285  0.9213  0.0063  \n",
            "MAE (testset)     0.7201  0.7112  0.7257  0.7242  0.7296  0.7222  0.0063  \n",
            "Fit time          26.65   27.04   28.98   29.95   35.89   29.70   3.32    \n",
            "Test time         4.52    5.07    5.12    4.11    6.76    5.11    0.90    \n",
            "Evaluating SVDpp...\n"
          ]
        }
      ]
    },
    {
      "cell_type": "code",
      "source": [
        "\"\"\"This module runs a 5-Fold CV for all the algorithms (default parameters) on\n",
        "the movielens datasets, and reports average RMSE, MAE, and total computation\n",
        "time.  It is used for making tables in the README.md file\"\"\"\n",
        "\n",
        "# flake8: noqa\n",
        "\n",
        "import datetime\n",
        "import random\n",
        "import time\n",
        "\n",
        "import numpy as np\n",
        "\n",
        "from surprise import (\n",
        "    BaselineOnly,\n",
        "    CoClustering,\n",
        "    Dataset,\n",
        "    KNNBaseline,\n",
        "    KNNBasic,\n",
        "    KNNWithMeans,\n",
        "    NMF,\n",
        "    NormalPredictor,\n",
        "    SlopeOne,\n",
        "    SVD,\n",
        "    SVDpp,\n",
        ")\n",
        "from surprise.model_selection import cross_validate, KFold\n",
        "from tabulate import tabulate\n",
        "\n",
        "# The algorithms to cross-validate\n",
        "algos = (\n",
        "    SVD(random_state=0),\n",
        "    SVDpp(random_state=0, cache_ratings=False),\n",
        "    SVDpp(random_state=0, cache_ratings=True),\n",
        "    NMF(random_state=0),\n",
        "    SlopeOne(),\n",
        "    KNNBasic(),\n",
        "    KNNWithMeans(),\n",
        "    KNNBaseline(),\n",
        "    CoClustering(random_state=0),\n",
        "    BaselineOnly(),\n",
        "    NormalPredictor(),\n",
        ")\n",
        "\n",
        "# ugly dict to map algo names and datasets to their markdown links in the table\n",
        "stable = \"https://surprise.readthedocs.io/en/stable/\"\n",
        "LINK = {\n",
        "    \"SVD\": \"[{}]({})\".format(\n",
        "        \"SVD\",\n",
        "        stable\n",
        "        + \"matrix_factorization.html#surprise.prediction_algorithms.matrix_factorization.SVD\",\n",
        "    ),\n",
        "    \"SVDpp\": \"[{}]({})\".format(\n",
        "        \"SVD++\",\n",
        "        stable\n",
        "        + \"matrix_factorization.html#surprise.prediction_algorithms.matrix_factorization.SVDpp\",\n",
        "    ),\n",
        "    \"NMF\": \"[{}]({})\".format(\n",
        "        \"NMF\",\n",
        "        stable\n",
        "        + \"matrix_factorization.html#surprise.prediction_algorithms.matrix_factorization.NMF\",\n",
        "    ),\n",
        "    \"SlopeOne\": \"[{}]({})\".format(\n",
        "        \"Slope One\",\n",
        "        stable + \"slope_one.html#surprise.prediction_algorithms.slope_one.SlopeOne\",\n",
        "    ),\n",
        "    \"KNNBasic\": \"[{}]({})\".format(\n",
        "        \"k-NN\",\n",
        "        stable + \"knn_inspired.html#surprise.prediction_algorithms.knns.KNNBasic\",\n",
        "    ),\n",
        "    \"KNNWithMeans\": \"[{}]({})\".format(\n",
        "        \"Centered k-NN\",\n",
        "        stable + \"knn_inspired.html#surprise.prediction_algorithms.knns.KNNWithMeans\",\n",
        "    ),\n",
        "    \"KNNBaseline\": \"[{}]({})\".format(\n",
        "        \"k-NN Baseline\",\n",
        "        stable + \"knn_inspired.html#surprise.prediction_algorithms.knns.KNNBaseline\",\n",
        "    ),\n",
        "    \"CoClustering\": \"[{}]({})\".format(\n",
        "        \"Co-Clustering\",\n",
        "        stable\n",
        "        + \"co_clustering.html#surprise.prediction_algorithms.co_clustering.CoClustering\",\n",
        "    ),\n",
        "    \"BaselineOnly\": \"[{}]({})\".format(\n",
        "        \"Baseline\",\n",
        "        stable\n",
        "        + \"basic_algorithms.html#surprise.prediction_algorithms.baseline_only.BaselineOnly\",\n",
        "    ),\n",
        "    \"NormalPredictor\": \"[{}]({})\".format(\n",
        "        \"Random\",\n",
        "        stable\n",
        "        + \"basic_algorithms.html#surprise.prediction_algorithms.random_pred.NormalPredictor\",\n",
        "    ),\n",
        "    \"ml-100k\": \"[{}]({})\".format(\n",
        "        \"Movielens 100k\", \"https://grouplens.org/datasets/movielens/100k\"\n",
        "    ),\n",
        "    \"ml-1m\": \"[{}]({})\".format(\n",
        "        \"Movielens 1M\", \"https://grouplens.org/datasets/movielens/1m\"\n",
        "    ),\n",
        "}\n",
        "\n",
        "\n",
        "# set RNG\n",
        "np.random.seed(0)\n",
        "random.seed(0)\n",
        "\n",
        "# dataset = \"ml-100k\"\n",
        "# data = Dataset.load_builtin(dataset)\n",
        "kf = KFold(random_state=0)  # folds will be the same for all algorithms.\n",
        "\n",
        "table = []\n",
        "for algo in algos:\n",
        "    start = time.time()\n",
        "    out = cross_validate(algo, data, [\"rmse\", \"mae\"], kf)\n",
        "    cv_time = str(datetime.timedelta(seconds=int(time.time() - start)))\n",
        "    link = LINK[algo.__class__.__name__]\n",
        "    mean_rmse = \"{:.3f}\".format(np.mean(out[\"test_rmse\"]))\n",
        "    mean_mae = \"{:.3f}\".format(np.mean(out[\"test_mae\"]))\n",
        "\n",
        "    new_line = [link, mean_rmse, mean_mae, cv_time]\n",
        "    print(tabulate([new_line], tablefmt=\"pipe\"))  # print current algo perf\n",
        "    table.append(new_line)\n",
        "\n",
        "header = [\"Algorithm\", \"RMSE\", \"MAE\", \"Time\"]\n",
        "print(tabulate(table, header, tablefmt=\"pipe\"))"
      ],
      "metadata": {
        "colab": {
          "base_uri": "https://localhost:8080/"
        },
        "id": "6DdmunlA5eMh",
        "outputId": "f8bdcc01-a2d4-4bc6-f193-006d70cd9ec9"
      },
      "execution_count": 21,
      "outputs": [
        {
          "output_type": "stream",
          "name": "stdout",
          "text": [
            "|:-----------------------------------------------------------------------------------------------------------------------------------|------:|------:|:--------|\n",
            "| [SVD](https://surprise.readthedocs.io/en/stable/matrix_factorization.html#surprise.prediction_algorithms.matrix_factorization.SVD) | 0.934 | 0.737 | 0:00:08 |\n",
            "|:---------------------------------------------------------------------------------------------------------------------------------------|------:|------:|:--------|\n",
            "| [SVD++](https://surprise.readthedocs.io/en/stable/matrix_factorization.html#surprise.prediction_algorithms.matrix_factorization.SVDpp) | 0.919 | 0.721 | 0:02:45 |\n",
            "|:---------------------------------------------------------------------------------------------------------------------------------------|------:|------:|:--------|\n",
            "| [SVD++](https://surprise.readthedocs.io/en/stable/matrix_factorization.html#surprise.prediction_algorithms.matrix_factorization.SVDpp) | 0.919 | 0.721 | 0:02:31 |\n",
            "|:-----------------------------------------------------------------------------------------------------------------------------------|------:|------:|:--------|\n",
            "| [NMF](https://surprise.readthedocs.io/en/stable/matrix_factorization.html#surprise.prediction_algorithms.matrix_factorization.NMF) | 0.963 | 0.758 | 0:00:12 |\n",
            "|:------------------------------------------------------------------------------------------------------------------------|------:|------:|:--------|\n",
            "| [Slope One](https://surprise.readthedocs.io/en/stable/slope_one.html#surprise.prediction_algorithms.slope_one.SlopeOne) | 0.946 | 0.743 | 0:00:19 |\n",
            "Computing the msd similarity matrix...\n",
            "Done computing similarity matrix.\n",
            "Computing the msd similarity matrix...\n",
            "Done computing similarity matrix.\n",
            "Computing the msd similarity matrix...\n",
            "Done computing similarity matrix.\n",
            "Computing the msd similarity matrix...\n",
            "Done computing similarity matrix.\n",
            "Computing the msd similarity matrix...\n",
            "Done computing similarity matrix.\n",
            "|:-----------------------------------------------------------------------------------------------------------------|-----:|------:|:--------|\n",
            "| [k-NN](https://surprise.readthedocs.io/en/stable/knn_inspired.html#surprise.prediction_algorithms.knns.KNNBasic) | 0.98 | 0.774 | 0:00:19 |\n",
            "Computing the msd similarity matrix...\n",
            "Done computing similarity matrix.\n",
            "Computing the msd similarity matrix...\n",
            "Done computing similarity matrix.\n",
            "Computing the msd similarity matrix...\n",
            "Done computing similarity matrix.\n",
            "Computing the msd similarity matrix...\n",
            "Done computing similarity matrix.\n",
            "Computing the msd similarity matrix...\n",
            "Done computing similarity matrix.\n",
            "|:------------------------------------------------------------------------------------------------------------------------------|------:|------:|:--------|\n",
            "| [Centered k-NN](https://surprise.readthedocs.io/en/stable/knn_inspired.html#surprise.prediction_algorithms.knns.KNNWithMeans) | 0.951 | 0.749 | 0:00:21 |\n",
            "Estimating biases using als...\n",
            "Computing the msd similarity matrix...\n",
            "Done computing similarity matrix.\n",
            "Estimating biases using als...\n",
            "Computing the msd similarity matrix...\n",
            "Done computing similarity matrix.\n",
            "Estimating biases using als...\n",
            "Computing the msd similarity matrix...\n",
            "Done computing similarity matrix.\n",
            "Estimating biases using als...\n",
            "Computing the msd similarity matrix...\n",
            "Done computing similarity matrix.\n",
            "Estimating biases using als...\n",
            "Computing the msd similarity matrix...\n",
            "Done computing similarity matrix.\n",
            "|:-----------------------------------------------------------------------------------------------------------------------------|------:|------:|:--------|\n",
            "| [k-NN Baseline](https://surprise.readthedocs.io/en/stable/knn_inspired.html#surprise.prediction_algorithms.knns.KNNBaseline) | 0.931 | 0.733 | 0:00:24 |\n",
            "|:----------------------------------------------------------------------------------------------------------------------------------------|------:|------:|:--------|\n",
            "| [Co-Clustering](https://surprise.readthedocs.io/en/stable/co_clustering.html#surprise.prediction_algorithms.co_clustering.CoClustering) | 0.963 | 0.753 | 0:00:12 |\n",
            "Estimating biases using als...\n",
            "Estimating biases using als...\n",
            "Estimating biases using als...\n",
            "Estimating biases using als...\n",
            "Estimating biases using als...\n",
            "|:--------------------------------------------------------------------------------------------------------------------------------------|------:|------:|:--------|\n",
            "| [Baseline](https://surprise.readthedocs.io/en/stable/basic_algorithms.html#surprise.prediction_algorithms.baseline_only.BaselineOnly) | 0.944 | 0.748 | 0:00:04 |\n",
            "|:-------------------------------------------------------------------------------------------------------------------------------------|------:|------:|:--------|\n",
            "| [Random](https://surprise.readthedocs.io/en/stable/basic_algorithms.html#surprise.prediction_algorithms.random_pred.NormalPredictor) | 1.518 | 1.219 | 0:00:02 |\n",
            "| Algorithm                                                                                                                               |   RMSE |   MAE | Time    |\n",
            "|:----------------------------------------------------------------------------------------------------------------------------------------|-------:|------:|:--------|\n",
            "| [SVD](https://surprise.readthedocs.io/en/stable/matrix_factorization.html#surprise.prediction_algorithms.matrix_factorization.SVD)      |  0.934 | 0.737 | 0:00:08 |\n",
            "| [SVD++](https://surprise.readthedocs.io/en/stable/matrix_factorization.html#surprise.prediction_algorithms.matrix_factorization.SVDpp)  |  0.919 | 0.721 | 0:02:45 |\n",
            "| [SVD++](https://surprise.readthedocs.io/en/stable/matrix_factorization.html#surprise.prediction_algorithms.matrix_factorization.SVDpp)  |  0.919 | 0.721 | 0:02:31 |\n",
            "| [NMF](https://surprise.readthedocs.io/en/stable/matrix_factorization.html#surprise.prediction_algorithms.matrix_factorization.NMF)      |  0.963 | 0.758 | 0:00:12 |\n",
            "| [Slope One](https://surprise.readthedocs.io/en/stable/slope_one.html#surprise.prediction_algorithms.slope_one.SlopeOne)                 |  0.946 | 0.743 | 0:00:19 |\n",
            "| [k-NN](https://surprise.readthedocs.io/en/stable/knn_inspired.html#surprise.prediction_algorithms.knns.KNNBasic)                        |  0.98  | 0.774 | 0:00:19 |\n",
            "| [Centered k-NN](https://surprise.readthedocs.io/en/stable/knn_inspired.html#surprise.prediction_algorithms.knns.KNNWithMeans)           |  0.951 | 0.749 | 0:00:21 |\n",
            "| [k-NN Baseline](https://surprise.readthedocs.io/en/stable/knn_inspired.html#surprise.prediction_algorithms.knns.KNNBaseline)            |  0.931 | 0.733 | 0:00:24 |\n",
            "| [Co-Clustering](https://surprise.readthedocs.io/en/stable/co_clustering.html#surprise.prediction_algorithms.co_clustering.CoClustering) |  0.963 | 0.753 | 0:00:12 |\n",
            "| [Baseline](https://surprise.readthedocs.io/en/stable/basic_algorithms.html#surprise.prediction_algorithms.baseline_only.BaselineOnly)   |  0.944 | 0.748 | 0:00:04 |\n",
            "| [Random](https://surprise.readthedocs.io/en/stable/basic_algorithms.html#surprise.prediction_algorithms.random_pred.NormalPredictor)    |  1.518 | 1.219 | 0:00:02 |\n"
          ]
        }
      ]
    },
    {
      "cell_type": "code",
      "source": [
        "import matplotlib.pyplot as plt\n",
        "\n",
        "# Дані для графіка\n",
        "algorithms = [\"SVD\", \"SVD++\", \"SVD++\", \"NMF\", \"Slope One\", \"k-NN\", \"Centered k-NN\", \"k-NN Baseline\", \"Co-Clustering\", \"Baseline\", \"Random\"]\n",
        "rmse = [0.934, 0.919, 0.919, 0.963, 0.946, 0.98, 0.951, 0.931, 0.963, 0.944, 1.518]\n",
        "mae = [0.737, 0.721, 0.721, 0.758, 0.743, 0.774, 0.749, 0.733, 0.753, 0.748, 1.219]\n",
        "time = [11, 160, 133, 14, 19, 21, 22, 25, 13, 4, 2]\n",
        "\n",
        "# Побудова графіків\n",
        "plt.figure(figsize=(10, 6))\n",
        "\n",
        "# Графік RMSE\n",
        "plt.subplot(2, 1, 1)\n",
        "plt.plot(algorithms, rmse, marker='o', color='b')\n",
        "plt.title('RMSE for Different Algorithms')\n",
        "plt.xlabel('Algorithm')\n",
        "plt.ylabel('RMSE')\n",
        "plt.xticks(rotation=45)\n",
        "plt.grid(True)\n",
        "\n",
        "# Графік MAE\n",
        "plt.subplot(2, 1, 2)\n",
        "plt.plot(algorithms, mae, marker='o', color='r')\n",
        "plt.title('MAE for Different Algorithms')\n",
        "plt.xlabel('Algorithm')\n",
        "plt.ylabel('MAE')\n",
        "plt.xticks(rotation=45)\n",
        "plt.grid(True)\n",
        "\n",
        "# Відображення графіків\n",
        "plt.tight_layout()\n",
        "plt.show()\n"
      ],
      "metadata": {
        "colab": {
          "base_uri": "https://localhost:8080/",
          "height": 607
        },
        "id": "bnuiLYWJ-mED",
        "outputId": "6719ae46-b959-4daa-848e-fb4c43479495"
      },
      "execution_count": 20,
      "outputs": [
        {
          "output_type": "display_data",
          "data": {
            "text/plain": [
              "<Figure size 1000x600 with 2 Axes>"
            ],
            "image/png": "[encoded data removed]"
          },
          "metadata": {}
        }
      ]
    },
    {
      "cell_type": "code",
      "source": [
        "import matplotlib.pyplot as plt\n",
        "\n",
        "# Дані для графіка\n",
        "algorithms = [\"SVD\", \"SVD++\", \"NMF\", \"Slope One\", \"k-NN\", \"Centered k-NN\", \"k-NN Baseline\", \"Co-Clustering\", \"Baseline\", \"Random\"]\n",
        "rmse = [0.934, 0.919, 0.963, 0.946, 0.98, 0.951, 0.931, 0.963, 0.944, 1.518]\n",
        "mae = [0.737, 0.721, 0.758, 0.743, 0.774, 0.749, 0.733, 0.753, 0.748, 1.219]\n",
        "time = [11, 160, 14, 19, 21, 22, 25, 13, 4, 2]\n",
        "\n",
        "# Побудова графіків\n",
        "plt.figure(figsize=(10, 6))\n",
        "\n",
        "# Діаграма гістограми для RMSE\n",
        "plt.subplot(2, 1, 1)\n",
        "plt.bar(algorithms, rmse, color='b')\n",
        "plt.title('RMSE for Different Algorithms')\n",
        "plt.xlabel('Algorithm')\n",
        "plt.ylabel('RMSE')\n",
        "plt.xticks(rotation=45)\n",
        "plt.grid(axis='y')\n",
        "\n",
        "# Діаграма гістограми для MAE\n",
        "plt.subplot(2, 1, 2)\n",
        "plt.bar(algorithms, mae, color='r')\n",
        "plt.title('MAE for Different Algorithms')\n",
        "plt.xlabel('Algorithm')\n",
        "plt.ylabel('MAE')\n",
        "plt.xticks(rotation=45)\n",
        "plt.grid(axis='y')\n",
        "\n",
        "# Відображення графіків\n",
        "plt.tight_layout()\n",
        "plt.show()\n"
      ],
      "metadata": {
        "id": "-xVt1jA1Bw2_",
        "outputId": "82fb3a93-b7cb-4750-f14b-c775d0fd9833",
        "colab": {
          "base_uri": "https://localhost:8080/",
          "height": 607
        }
      },
      "execution_count": null,
      "outputs": [
        {
          "output_type": "display_data",
          "data": {
            "text/plain": [
              "<Figure size 1000x600 with 2 Axes>"
            ],
            "image/png": "[encoded data removed]"
          },
          "metadata": {}
        }
      ]
    }
  ]
}